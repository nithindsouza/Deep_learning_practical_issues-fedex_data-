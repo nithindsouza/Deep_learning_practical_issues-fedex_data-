{
  "nbformat": 4,
  "nbformat_minor": 0,
  "metadata": {
    "colab": {
      "name": "ann2.ipynb",
      "provenance": [],
      "collapsed_sections": []
    },
    "kernelspec": {
      "name": "python3",
      "display_name": "Python 3"
    },
    "language_info": {
      "name": "python"
    },
    "accelerator": "GPU"
  },
  "cells": [
    {
      "cell_type": "markdown",
      "metadata": {
        "id": "K028JN16waeG"
      },
      "source": [
        "# Build an ANN model to predict Delivery Status for a logistic firm\n",
        "\n",
        "\n",
        "(Refer fedex dataset)\n",
        "link: [fedex_data](https://drive.google.com/file/d/1yGPY8m73_U3i5HGJerV4eI07XOPe3INg/view?usp=sharing)\n",
        "\n"
      ]
    },
    {
      "cell_type": "code",
      "metadata": {
        "id": "gmejXvZjBWs7"
      },
      "source": [
        "import pandas as pd\n",
        "from sklearn.preprocessing import LabelEncoder\n",
        "from sklearn.model_selection import train_test_split\n",
        "from sklearn.preprocessing import StandardScaler\n",
        "import seaborn as sns\n",
        "import keras\n",
        "from keras.models import Sequential\n",
        "from keras.layers import Dense\n",
        "from keras.wrappers.scikit_learn import KerasClassifier\n",
        "from sklearn.model_selection import cross_val_score"
      ],
      "execution_count": null,
      "outputs": []
    },
    {
      "cell_type": "code",
      "metadata": {
        "id": "sriefYokxeIt"
      },
      "source": [
        ""
      ],
      "execution_count": null,
      "outputs": []
    },
    {
      "cell_type": "code",
      "metadata": {
        "id": "pwQaUHemB_Sk"
      },
      "source": [
        "#loading fedex_data\n",
        "path = \"/content/drive/MyDrive/Colab Notebooks/fedex.csv\"\n",
        "fedex_data = pd.read_csv(path)"
      ],
      "execution_count": null,
      "outputs": []
    },
    {
      "cell_type": "code",
      "metadata": {
        "colab": {
          "base_uri": "https://localhost:8080/"
        },
        "id": "s8PAWC46GzKM",
        "outputId": "025a305f-d28a-46e6-d666-13269416e22f"
      },
      "source": [
        "#checking for Nan's / nulls\n",
        "fedex_data.isnull().sum().sum()"
      ],
      "execution_count": null,
      "outputs": [
        {
          "output_type": "execute_result",
          "data": {
            "text/plain": [
              "245353"
            ]
          },
          "metadata": {
            "tags": []
          },
          "execution_count": 4
        }
      ]
    },
    {
      "cell_type": "code",
      "metadata": {
        "colab": {
          "base_uri": "https://localhost:8080/"
        },
        "id": "lJBLkotPHPOT",
        "outputId": "bd521eee-c022-48ec-b2fd-c6fb14e32065"
      },
      "source": [
        "# dropping the rows having NaN values and check\n",
        "fedex_data = fedex_data.dropna()\n",
        "fedex_data.isnull().sum().sum()"
      ],
      "execution_count": null,
      "outputs": [
        {
          "output_type": "execute_result",
          "data": {
            "text/plain": [
              "0"
            ]
          },
          "metadata": {
            "tags": []
          },
          "execution_count": 5
        }
      ]
    },
    {
      "cell_type": "code",
      "metadata": {
        "id": "eucR9BBZCZFT",
        "colab": {
          "base_uri": "https://localhost:8080/",
          "height": 225
        },
        "outputId": "b41971bb-463f-4711-efdf-b72b7532439a"
      },
      "source": [
        "fedex_data.head(5)"
      ],
      "execution_count": null,
      "outputs": [
        {
          "output_type": "execute_result",
          "data": {
            "text/html": [
              "<div>\n",
              "<style scoped>\n",
              "    .dataframe tbody tr th:only-of-type {\n",
              "        vertical-align: middle;\n",
              "    }\n",
              "\n",
              "    .dataframe tbody tr th {\n",
              "        vertical-align: top;\n",
              "    }\n",
              "\n",
              "    .dataframe thead th {\n",
              "        text-align: right;\n",
              "    }\n",
              "</style>\n",
              "<table border=\"1\" class=\"dataframe\">\n",
              "  <thead>\n",
              "    <tr style=\"text-align: right;\">\n",
              "      <th></th>\n",
              "      <th>Year</th>\n",
              "      <th>Month</th>\n",
              "      <th>DayofMonth</th>\n",
              "      <th>DayOfWeek</th>\n",
              "      <th>Actual_Shipment_Time</th>\n",
              "      <th>Planned_Shipment_Time</th>\n",
              "      <th>Planned_Delivery_Time</th>\n",
              "      <th>Carrier_Name</th>\n",
              "      <th>Carrier_Num</th>\n",
              "      <th>Planned_TimeofTravel</th>\n",
              "      <th>Shipment_Delay</th>\n",
              "      <th>Source</th>\n",
              "      <th>Destination</th>\n",
              "      <th>Distance</th>\n",
              "      <th>Delivery_Status</th>\n",
              "    </tr>\n",
              "  </thead>\n",
              "  <tbody>\n",
              "    <tr>\n",
              "      <th>0</th>\n",
              "      <td>2008</td>\n",
              "      <td>1</td>\n",
              "      <td>3</td>\n",
              "      <td>4</td>\n",
              "      <td>2003.0</td>\n",
              "      <td>1955</td>\n",
              "      <td>2225</td>\n",
              "      <td>WN</td>\n",
              "      <td>335</td>\n",
              "      <td>150.0</td>\n",
              "      <td>8.0</td>\n",
              "      <td>IAD</td>\n",
              "      <td>TPA</td>\n",
              "      <td>810</td>\n",
              "      <td>0.0</td>\n",
              "    </tr>\n",
              "    <tr>\n",
              "      <th>1</th>\n",
              "      <td>2008</td>\n",
              "      <td>1</td>\n",
              "      <td>3</td>\n",
              "      <td>4</td>\n",
              "      <td>754.0</td>\n",
              "      <td>735</td>\n",
              "      <td>1000</td>\n",
              "      <td>WN</td>\n",
              "      <td>3231</td>\n",
              "      <td>145.0</td>\n",
              "      <td>19.0</td>\n",
              "      <td>IAD</td>\n",
              "      <td>TPA</td>\n",
              "      <td>810</td>\n",
              "      <td>1.0</td>\n",
              "    </tr>\n",
              "    <tr>\n",
              "      <th>2</th>\n",
              "      <td>2008</td>\n",
              "      <td>1</td>\n",
              "      <td>3</td>\n",
              "      <td>4</td>\n",
              "      <td>628.0</td>\n",
              "      <td>620</td>\n",
              "      <td>750</td>\n",
              "      <td>WN</td>\n",
              "      <td>448</td>\n",
              "      <td>90.0</td>\n",
              "      <td>8.0</td>\n",
              "      <td>IND</td>\n",
              "      <td>BWI</td>\n",
              "      <td>515</td>\n",
              "      <td>0.0</td>\n",
              "    </tr>\n",
              "    <tr>\n",
              "      <th>3</th>\n",
              "      <td>2008</td>\n",
              "      <td>1</td>\n",
              "      <td>3</td>\n",
              "      <td>4</td>\n",
              "      <td>926.0</td>\n",
              "      <td>930</td>\n",
              "      <td>1100</td>\n",
              "      <td>WN</td>\n",
              "      <td>1746</td>\n",
              "      <td>90.0</td>\n",
              "      <td>-4.0</td>\n",
              "      <td>IND</td>\n",
              "      <td>BWI</td>\n",
              "      <td>515</td>\n",
              "      <td>0.0</td>\n",
              "    </tr>\n",
              "    <tr>\n",
              "      <th>4</th>\n",
              "      <td>2008</td>\n",
              "      <td>1</td>\n",
              "      <td>3</td>\n",
              "      <td>4</td>\n",
              "      <td>1829.0</td>\n",
              "      <td>1755</td>\n",
              "      <td>1925</td>\n",
              "      <td>WN</td>\n",
              "      <td>3920</td>\n",
              "      <td>90.0</td>\n",
              "      <td>34.0</td>\n",
              "      <td>IND</td>\n",
              "      <td>BWI</td>\n",
              "      <td>515</td>\n",
              "      <td>1.0</td>\n",
              "    </tr>\n",
              "  </tbody>\n",
              "</table>\n",
              "</div>"
            ],
            "text/plain": [
              "   Year  Month  DayofMonth  ...  Destination  Distance  Delivery_Status\n",
              "0  2008      1           3  ...          TPA       810              0.0\n",
              "1  2008      1           3  ...          TPA       810              1.0\n",
              "2  2008      1           3  ...          BWI       515              0.0\n",
              "3  2008      1           3  ...          BWI       515              0.0\n",
              "4  2008      1           3  ...          BWI       515              1.0\n",
              "\n",
              "[5 rows x 15 columns]"
            ]
          },
          "metadata": {
            "tags": []
          },
          "execution_count": 6
        }
      ]
    },
    {
      "cell_type": "code",
      "metadata": {
        "colab": {
          "base_uri": "https://localhost:8080/"
        },
        "id": "5SXwunX_DGB5",
        "outputId": "fd9bc9b5-7d35-4d00-83f9-15db4853a50a"
      },
      "source": [
        "#columns\n",
        "fedex_data.columns"
      ],
      "execution_count": null,
      "outputs": [
        {
          "output_type": "execute_result",
          "data": {
            "text/plain": [
              "Index(['Year', 'Month', 'DayofMonth', 'DayOfWeek', 'Actual_Shipment_Time',\n",
              "       'Planned_Shipment_Time', 'Planned_Delivery_Time', 'Carrier_Name',\n",
              "       'Carrier_Num', 'Planned_TimeofTravel', 'Shipment_Delay', 'Source',\n",
              "       'Destination', 'Distance', 'Delivery_Status'],\n",
              "      dtype='object')"
            ]
          },
          "metadata": {
            "tags": []
          },
          "execution_count": 7
        }
      ]
    },
    {
      "cell_type": "code",
      "metadata": {
        "id": "YpQsq5v9DNwh",
        "colab": {
          "base_uri": "https://localhost:8080/"
        },
        "outputId": "6167d7f9-1677-46e6-e4bc-d42ea34ac123"
      },
      "source": [
        "#viewing target\n",
        "fedex_data['Delivery_Status'].head(5)"
      ],
      "execution_count": null,
      "outputs": [
        {
          "output_type": "execute_result",
          "data": {
            "text/plain": [
              "0    0.0\n",
              "1    1.0\n",
              "2    0.0\n",
              "3    0.0\n",
              "4    1.0\n",
              "Name: Delivery_Status, dtype: float64"
            ]
          },
          "metadata": {
            "tags": []
          },
          "execution_count": 8
        }
      ]
    },
    {
      "cell_type": "code",
      "metadata": {
        "id": "JqzmC3PhDQur",
        "colab": {
          "base_uri": "https://localhost:8080/",
          "height": 363
        },
        "outputId": "f4eecdbf-8567-4c91-8aad-e592fb34833c"
      },
      "source": [
        "#Summary of Delivery_Status\n",
        "sns.countplot(fedex_data['Delivery_Status'],label=\"Count\")"
      ],
      "execution_count": null,
      "outputs": [
        {
          "output_type": "stream",
          "text": [
            "/usr/local/lib/python3.7/dist-packages/seaborn/_decorators.py:43: FutureWarning: Pass the following variable as a keyword arg: x. From version 0.12, the only valid positional argument will be `data`, and passing other arguments without an explicit keyword will result in an error or misinterpretation.\n",
            "  FutureWarning\n"
          ],
          "name": "stderr"
        },
        {
          "output_type": "execute_result",
          "data": {
            "text/plain": [
              "<matplotlib.axes._subplots.AxesSubplot at 0x7f053cd24390>"
            ]
          },
          "metadata": {
            "tags": []
          },
          "execution_count": 9
        },
        {
          "output_type": "display_data",
          "data": {
            "image/png": "[encoded data removed]",
            "text/plain": [
              "<Figure size 432x288 with 1 Axes>"
            ]
          },
          "metadata": {
            "tags": [],
            "needs_background": "light"
          }
        }
      ]
    },
    {
      "cell_type": "code",
      "metadata": {
        "colab": {
          "base_uri": "https://localhost:8080/"
        },
        "id": "N7XJKH4cIinr",
        "outputId": "36c5d19b-5ca1-408e-a590-421a88aac469"
      },
      "source": [
        "#combining source and destination column into new Path column\n",
        "fedex_data['Path'] = fedex_data[['Source', 'Destination']].apply(lambda x: '-'.join(x), axis = 1)\n",
        "fedex_data['Path'].head(5)"
      ],
      "execution_count": null,
      "outputs": [
        {
          "output_type": "execute_result",
          "data": {
            "text/plain": [
              "0    IAD-TPA\n",
              "1    IAD-TPA\n",
              "2    IND-BWI\n",
              "3    IND-BWI\n",
              "4    IND-BWI\n",
              "Name: Path, dtype: object"
            ]
          },
          "metadata": {
            "tags": []
          },
          "execution_count": 10
        }
      ]
    },
    {
      "cell_type": "code",
      "metadata": {
        "id": "ZJJdr2XQoqY1"
      },
      "source": [
        "#droping 'Source' and 'Destination' along with 'Carrier_Name' since 'Carrier_Num' is already present\n",
        "fedex_data.drop(['Source', 'Destination', 'Carrier_Name'], axis = 1, inplace= True)"
      ],
      "execution_count": null,
      "outputs": []
    },
    {
      "cell_type": "code",
      "metadata": {
        "id": "eQmTebqK3xph"
      },
      "source": [
        "# Encoding categorical data\n",
        "from sklearn.preprocessing import LabelEncoder\n",
        "le = LabelEncoder()\n",
        "fedex_data['Path'] = le.fit_transform(fedex_data['Path'])"
      ],
      "execution_count": null,
      "outputs": []
    },
    {
      "cell_type": "code",
      "metadata": {
        "id": "plpAGzOMpV_F"
      },
      "source": [
        "#independent and dependent features\n",
        "X  = fedex_data.iloc[:, fedex_data.columns != 'Delivery_Status'].values #independent\n",
        "y = fedex_data['Delivery_Status'].values   #dependent"
      ],
      "execution_count": null,
      "outputs": []
    },
    {
      "cell_type": "code",
      "metadata": {
        "colab": {
          "base_uri": "https://localhost:8080/"
        },
        "id": "nQxjmJUI82zu",
        "outputId": "905ff0dc-2196-4825-ad57-f7802ad51ed0"
      },
      "source": [
        "#Viewing Independent and dependent columns\n",
        "print(X[:,:5])\n",
        "print(y)"
      ],
      "execution_count": null,
      "outputs": [
        {
          "output_type": "stream",
          "text": [
            "[[2.008e+03 1.000e+00 3.000e+00 4.000e+00 2.003e+03]\n",
            " [2.008e+03 1.000e+00 3.000e+00 4.000e+00 7.540e+02]\n",
            " [2.008e+03 1.000e+00 3.000e+00 4.000e+00 6.280e+02]\n",
            " ...\n",
            " [2.008e+03 6.000e+00 1.900e+01 4.000e+00 8.210e+02]\n",
            " [2.008e+03 6.000e+00 1.900e+01 4.000e+00 7.180e+02]\n",
            " [2.008e+03 6.000e+00 1.900e+01 4.000e+00 1.127e+03]]\n",
            "[0. 1. 0. ... 0. 0. 1.]\n"
          ],
          "name": "stdout"
        }
      ]
    },
    {
      "cell_type": "code",
      "metadata": {
        "id": "pFDVG_w6t1vs"
      },
      "source": [
        "#Data split\n",
        "X_train, X_test, y_train, y_test = train_test_split(X, y,test_size = 0.3, random_state = 0)"
      ],
      "execution_count": null,
      "outputs": []
    },
    {
      "cell_type": "code",
      "metadata": {
        "id": "0B7VXiXLIcXS"
      },
      "source": [
        "#Scaling independent variables\n",
        "sc = StandardScaler()\n",
        "X_train = sc.fit_transform(X_train)\n",
        "X_test = sc.transform(X_test)"
      ],
      "execution_count": null,
      "outputs": []
    },
    {
      "cell_type": "code",
      "metadata": {
        "id": "h1neUlw5I8TO",
        "colab": {
          "base_uri": "https://localhost:8080/"
        },
        "outputId": "57209a2a-2eec-4065-93d3-a65164b0fec9"
      },
      "source": [
        "# viewing scaled data\n",
        "X_train[:,:5]"
      ],
      "execution_count": null,
      "outputs": [
        {
          "output_type": "execute_result",
          "data": {
            "text/plain": [
              "array([[ 0.        ,  0.86185735,  1.74614772,  1.03721038, -1.42591428],\n",
              "       [ 0.        ,  0.27694058,  0.83287268, -0.47163277, -0.78813567],\n",
              "       [ 0.        ,  1.44677413, -0.53703988, -0.47163277,  0.60168157],\n",
              "       ...,\n",
              "       [ 0.        ,  0.27694058,  1.63198834, -0.47163277,  1.06079907],\n",
              "       [ 0.        , -0.3079762 ,  0.49039454,  0.03131495,  1.49290966],\n",
              "       [ 0.        , -1.47780975,  1.06119144,  0.53426266, -0.47444   ]])"
            ]
          },
          "metadata": {
            "tags": []
          },
          "execution_count": 17
        }
      ]
    },
    {
      "cell_type": "code",
      "metadata": {
        "colab": {
          "base_uri": "https://localhost:8080/"
        },
        "id": "YvKhS8jtFQAj",
        "outputId": "8072f9c3-9a01-4f32-e7ed-057ec8f6c0e8"
      },
      "source": [
        "print(\"X_train\",X_train.shape)\n",
        "print(\"X_test\",X_test.shape)\n",
        "print(\"y_train\",y_train.shape)\n",
        "print(\"y_test\",y_test.shape)"
      ],
      "execution_count": null,
      "outputs": [
        {
          "output_type": "stream",
          "text": [
            "X_train (2465516, 12)\n",
            "X_test (1056651, 12)\n",
            "y_train (2465516,)\n",
            "y_test (1056651,)\n"
          ],
          "name": "stdout"
        }
      ]
    },
    {
      "cell_type": "code",
      "metadata": {
        "id": "vjbG1CSvDfxy"
      },
      "source": [
        "#defining the model\n",
        "#adding the input and first hidden layer\n",
        "def build_model():\n",
        "  model = Sequential()\n",
        "  model.add(Dense(10,activation='relu',input_shape=(12,)))\n",
        "  #adding the second hidden layer\n",
        "  model.add(Dense(6, activation='relu'))\n",
        "  #adding the output layer\n",
        "  model.add(Dense(1, activation='sigmoid'))\n",
        "  #compiling model\n",
        "  model.compile(optimizer='adam',loss='binary_crossentropy',metrics=['accuracy'])\n",
        "  return model"
      ],
      "execution_count": null,
      "outputs": []
    },
    {
      "cell_type": "code",
      "metadata": {
        "id": "uKmZtoieHeMm"
      },
      "source": [
        "#fitting model\n",
        "classifier = KerasClassifier(build_fn = build_model , batch_size = 512 , nb_epoch = 20)"
      ],
      "execution_count": null,
      "outputs": []
    },
    {
      "cell_type": "code",
      "metadata": {
        "colab": {
          "base_uri": "https://localhost:8080/"
        },
        "id": "JkZ8vusPu2Ll",
        "outputId": "9ea96748-b762-4860-b6b2-76339d08fa8f"
      },
      "source": [
        "#evaluating model\n",
        "accuracy = cross_val_score(estimator = classifier , X=X_train, y=y_train, cv =10 , n_jobs = -1)"
      ],
      "execution_count": null,
      "outputs": [
        {
          "output_type": "stream",
          "text": [
            "/usr/local/lib/python3.7/dist-packages/joblib/externals/loky/process_executor.py:691: UserWarning: A worker stopped while some jobs were given to the executor. This can be caused by a too short worker timeout or by a memory leak.\n",
            "  \"timeout or by a memory leak.\", UserWarning\n"
          ],
          "name": "stderr"
        }
      ]
    },
    {
      "cell_type": "code",
      "metadata": {
        "colab": {
          "base_uri": "https://localhost:8080/"
        },
        "id": "6A1VZ_eikGd5",
        "outputId": "870c6521-f4b1-4c73-fe29-67992de8f0ca"
      },
      "source": [
        "print(\"Mean accuracy:\",format(100*accuracy.mean(),\".2f\"),\"%\")"
      ],
      "execution_count": null,
      "outputs": [
        {
          "output_type": "stream",
          "text": [
            "Mean accuracy: 99.99 %\n"
          ],
          "name": "stdout"
        }
      ]
    }
  ]
}